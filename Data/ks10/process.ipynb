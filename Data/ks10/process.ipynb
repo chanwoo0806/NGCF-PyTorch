{
 "cells": [
  {
   "cell_type": "code",
   "execution_count": 1,
   "metadata": {},
   "outputs": [
    {
     "name": "stderr",
     "output_type": "stream",
     "text": [
      "100%|██████████| 14356/14356 [00:00<00:00, 132922.65it/s]\n",
      "100%|██████████| 14356/14356 [00:00<00:00, 58063.68it/s]\n"
     ]
    },
    {
     "name": "stdout",
     "output_type": "stream",
     "text": [
      "count    14356.000000\n",
      "mean        18.100167\n",
      "std         20.347254\n",
      "min          7.000000\n",
      "25%          8.000000\n",
      "50%         11.000000\n",
      "75%         19.000000\n",
      "max        489.000000\n",
      "Name: item_id, dtype: float64\n",
      "\n",
      "count    15560.000000\n",
      "mean        16.699614\n",
      "std         16.461892\n",
      "min          1.000000\n",
      "25%          8.000000\n",
      "50%         12.000000\n",
      "75%         19.000000\n",
      "max        308.000000\n",
      "Name: user_id, dtype: float64\n"
     ]
    }
   ],
   "source": [
    "import pandas as pd\n",
    "from tqdm import tqdm\n",
    "\n",
    "\n",
    "train, valid, test = [], [], []\n",
    "test_user_pool = set()\n",
    "with open(\"test.txt\", \"r\") as f:\n",
    "    for line in tqdm(f.readlines()):\n",
    "        uid, *test_seq = line.strip().split()\n",
    "        if not test_seq:\n",
    "            continue\n",
    "        test.extend(\n",
    "            [\n",
    "                {\"user_id\": int(u)+1, \"item_id\": int(i)+1, \"timestamp\": 1}\n",
    "                for u, i in zip([uid] * len(test_seq), test_seq)\n",
    "            ]\n",
    "        )\n",
    "        test_user_pool.add(uid)\n",
    "with open(\"train.txt\", \"r\") as f:\n",
    "    for line in tqdm(f.readlines()):\n",
    "        uid, *seq = line.strip().split()\n",
    "        if uid not in test_user_pool:\n",
    "            print(uid, \"SEQ:\", seq)\n",
    "            test_split = int(len(seq) * 0.8)\n",
    "            seq, test_seq = seq[:test_split], seq[test_split:]\n",
    "            test.extend(\n",
    "                [\n",
    "                    {\"user_id\": int(u)+1, \"item_id\": int(i)+1, \"timestamp\": 1}\n",
    "                    for u, i in zip([uid] * len(test_seq), test_seq)\n",
    "                ]\n",
    "            )\n",
    "        split_idx = int(len(seq) * 0.9)\n",
    "        train_seq, valid_seq = seq[:split_idx], seq[split_idx:]\n",
    "        train.extend(\n",
    "            [\n",
    "                {\"user_id\": int(u)+1, \"item_id\": int(i)+1, \"timestamp\": 1}\n",
    "                for u, i in zip([uid] * len(train_seq), train_seq)\n",
    "            ]\n",
    "        )\n",
    "        valid.extend(\n",
    "            [\n",
    "                {\"user_id\": int(u)+1, \"item_id\": int(i)+1, \"timestamp\": 1}\n",
    "                for u, i in zip([uid] * len(valid_seq), valid_seq)\n",
    "            ]\n",
    "        )\n",
    "\n",
    "train = pd.DataFrame(train)\n",
    "valid = pd.DataFrame(valid)\n",
    "test = pd.DataFrame(test)\n",
    "\n",
    "print(train.groupby(\"user_id\").count()[\"item_id\"].describe())\n",
    "print()\n",
    "print(train.groupby(\"item_id\").count()[\"user_id\"].describe())\n",
    "\n",
    "train.to_csv(\"train.csv\", index=False)\n",
    "valid.to_csv(\"valid.csv\", index=False)\n",
    "test.to_csv(\"test.csv\", index=False)"
   ]
  },
  {
   "cell_type": "code",
   "execution_count": 3,
   "metadata": {},
   "outputs": [],
   "source": [
    "ks10 = pd.concat([train, valid, test], ignore_index=True)"
   ]
  },
  {
   "cell_type": "code",
   "execution_count": 4,
   "metadata": {},
   "outputs": [],
   "source": [
    "ks10.to_csv(\"ks10.csv\", index=False)\n"
   ]
  },
  {
   "cell_type": "code",
   "execution_count": 6,
   "metadata": {},
   "outputs": [
    {
     "data": {
      "text/html": [
       "<div>\n",
       "<style scoped>\n",
       "    .dataframe tbody tr th:only-of-type {\n",
       "        vertical-align: middle;\n",
       "    }\n",
       "\n",
       "    .dataframe tbody tr th {\n",
       "        vertical-align: top;\n",
       "    }\n",
       "\n",
       "    .dataframe thead th {\n",
       "        text-align: right;\n",
       "    }\n",
       "</style>\n",
       "<table border=\"1\" class=\"dataframe\">\n",
       "  <thead>\n",
       "    <tr style=\"text-align: right;\">\n",
       "      <th></th>\n",
       "      <th>user_id</th>\n",
       "      <th>item_id</th>\n",
       "      <th>timestamp</th>\n",
       "    </tr>\n",
       "  </thead>\n",
       "  <tbody>\n",
       "    <tr>\n",
       "      <th>0</th>\n",
       "      <td>1</td>\n",
       "      <td>8868</td>\n",
       "      <td>1</td>\n",
       "    </tr>\n",
       "    <tr>\n",
       "      <th>1</th>\n",
       "      <td>1</td>\n",
       "      <td>8869</td>\n",
       "      <td>1</td>\n",
       "    </tr>\n",
       "    <tr>\n",
       "      <th>2</th>\n",
       "      <td>1</td>\n",
       "      <td>761</td>\n",
       "      <td>1</td>\n",
       "    </tr>\n",
       "    <tr>\n",
       "      <th>3</th>\n",
       "      <td>1</td>\n",
       "      <td>3560</td>\n",
       "      <td>1</td>\n",
       "    </tr>\n",
       "    <tr>\n",
       "      <th>4</th>\n",
       "      <td>1</td>\n",
       "      <td>5585</td>\n",
       "      <td>1</td>\n",
       "    </tr>\n",
       "    <tr>\n",
       "      <th>...</th>\n",
       "      <td>...</td>\n",
       "      <td>...</td>\n",
       "      <td>...</td>\n",
       "    </tr>\n",
       "    <tr>\n",
       "      <th>367472</th>\n",
       "      <td>14356</td>\n",
       "      <td>15463</td>\n",
       "      <td>1</td>\n",
       "    </tr>\n",
       "    <tr>\n",
       "      <th>367473</th>\n",
       "      <td>14356</td>\n",
       "      <td>13830</td>\n",
       "      <td>1</td>\n",
       "    </tr>\n",
       "    <tr>\n",
       "      <th>367474</th>\n",
       "      <td>14356</td>\n",
       "      <td>15685</td>\n",
       "      <td>1</td>\n",
       "    </tr>\n",
       "    <tr>\n",
       "      <th>367475</th>\n",
       "      <td>14356</td>\n",
       "      <td>15806</td>\n",
       "      <td>1</td>\n",
       "    </tr>\n",
       "    <tr>\n",
       "      <th>367476</th>\n",
       "      <td>14356</td>\n",
       "      <td>14806</td>\n",
       "      <td>1</td>\n",
       "    </tr>\n",
       "  </tbody>\n",
       "</table>\n",
       "<p>367477 rows × 3 columns</p>\n",
       "</div>"
      ],
      "text/plain": [
       "        user_id  item_id  timestamp\n",
       "0             1     8868          1\n",
       "1             1     8869          1\n",
       "2             1      761          1\n",
       "3             1     3560          1\n",
       "4             1     5585          1\n",
       "...         ...      ...        ...\n",
       "367472    14356    15463          1\n",
       "367473    14356    13830          1\n",
       "367474    14356    15685          1\n",
       "367475    14356    15806          1\n",
       "367476    14356    14806          1\n",
       "\n",
       "[367477 rows x 3 columns]"
      ]
     },
     "execution_count": 6,
     "metadata": {},
     "output_type": "execute_result"
    }
   ],
   "source": [
    "file_path = 'ks10.csv'\n",
    "df = pd.read_csv(file_path)\n",
    "df\n"
   ]
  },
  {
   "cell_type": "code",
   "execution_count": 11,
   "metadata": {},
   "outputs": [
    {
     "name": "stdout",
     "output_type": "stream",
     "text": [
      "   org_id  remap_id\n",
      "0       1         0\n",
      "1       2         1\n",
      "2       3         2\n",
      "3       4         3\n",
      "4       5         4\n"
     ]
    }
   ],
   "source": [
    "import pandas as pd\n",
    "\n",
    "df_u = df.drop_duplicates(subset='user_id', keep='first', ignore_index=True)\n",
    "\n",
    "df_remap = pd.DataFrame({\n",
    "    'org_id': df_u['user_id'],         # Original user_id\n",
    "    'remap_id': df_u['user_id'] - 1    # Remap user_id starting from 0\n",
    "})\n",
    "\n",
    "output_file_path = 'user_list.txt'\n",
    "df_remap.to_csv(output_file_path, sep='\\t', index=False)\n",
    "\n",
    "# Optionally, you can print the first few rows of the remapped DataFrame.\n",
    "print(df_remap.head())\n"
   ]
  },
  {
   "cell_type": "code",
   "execution_count": 12,
   "metadata": {},
   "outputs": [
    {
     "name": "stdout",
     "output_type": "stream",
     "text": [
      "   org_id  remap_id\n",
      "0    8868      8867\n",
      "1    8869      8868\n",
      "2     761       760\n",
      "3    3560      3559\n",
      "4    5585      5584\n"
     ]
    }
   ],
   "source": [
    "import pandas as pd\n",
    "\n",
    "df_temp = df.drop_duplicates(subset='item_id', keep='first', ignore_index=True)\n",
    "\n",
    "df_remap = pd.DataFrame({\n",
    "    'org_id': df_temp['item_id'],         # Original item_id\n",
    "    'remap_id': df_temp['item_id'] - 1    # Remap user_id starting from 0\n",
    "})\n",
    "\n",
    "output_file_path = 'item_list.txt'\n",
    "df_remap.to_csv(output_file_path, sep=' ', index=False)\n",
    "\n",
    "# Optionally, you can print the first few rows of the remapped DataFrame.\n",
    "print(df_remap.head())\n"
   ]
  },
  {
   "cell_type": "code",
   "execution_count": 13,
   "metadata": {},
   "outputs": [
    {
     "data": {
      "text/plain": [
       "15885"
      ]
     },
     "execution_count": 13,
     "metadata": {},
     "output_type": "execute_result"
    }
   ],
   "source": [
    "max(df['item_id'])"
   ]
  },
  {
   "cell_type": "code",
   "execution_count": 14,
   "metadata": {},
   "outputs": [
    {
     "data": {
      "text/plain": [
       "14356"
      ]
     },
     "execution_count": 14,
     "metadata": {},
     "output_type": "execute_result"
    }
   ],
   "source": [
    "max(df['user_id'])"
   ]
  },
  {
   "cell_type": "code",
   "execution_count": 15,
   "metadata": {},
   "outputs": [
    {
     "data": {
      "text/plain": [
       "367477"
      ]
     },
     "execution_count": 15,
     "metadata": {},
     "output_type": "execute_result"
    }
   ],
   "source": [
    "len(df)"
   ]
  },
  {
   "cell_type": "code",
   "execution_count": null,
   "metadata": {},
   "outputs": [],
   "source": []
  },
  {
   "cell_type": "code",
   "execution_count": null,
   "metadata": {},
   "outputs": [],
   "source": [
    "COL_USER_ID = \"user_id\"\n",
    "COL_ITEM_ID = \"item_id\"\n",
    "COL_RATINGS = \"rating\"\n",
    "COL_TIMESTAMP = \"timestamp\"\n",
    "\n",
    "def get_sequence(ratings, num_users, num_items):\n",
    "    ratings.sort_values(by=COL_TIMESTAMP, inplace=True)\n",
    "    itemseqs = ratings.groupby(COL_USER_ID)[COL_ITEM_ID].apply(list).reset_index(name=\"items\")\n",
    "    user_itemseqs = {user_id: items for user_id, items in zip(itemseqs[COL_USER_ID], itemseqs[\"items\"])}    \n",
    "    userseqs = ratings.groupby(COL_ITEM_ID)[COL_USER_ID].apply(list).reset_index(name=\"users\")\n",
    "    item_userseqs = {item_id: users for item_id, users in zip(userseqs[COL_ITEM_ID], userseqs[\"users\"])}    \n",
    "    item_userseqs = {k: item_userseqs[k] if k in item_userseqs else [] for k in range(1, num_items + 1)}\n",
    "    return (user_itemseqs, item_userseqs)"
   ]
  },
  {
   "cell_type": "code",
   "execution_count": 11,
   "metadata": {},
   "outputs": [
    {
     "data": {
      "text/plain": [
       "<bound method NDFrame.head of         user_id  item_id  rating   timestamp\n",
       "0          6034     1552       5   956703977\n",
       "1          6034      501       4   956704056\n",
       "2          6034      981       5   956704257\n",
       "3          6034      209       5   956704613\n",
       "4          6034      676       4   956704788\n",
       "...         ...      ...     ...         ...\n",
       "112423     5944     2219       4  1046368263\n",
       "112424     5944     2901       4  1046368496\n",
       "112425     5944     3093       4  1046369026\n",
       "112426      403      818       4  1046388675\n",
       "112427     3158     2082       4  1046393499\n",
       "\n",
       "[112428 rows x 4 columns]>"
      ]
     },
     "execution_count": 11,
     "metadata": {},
     "output_type": "execute_result"
    }
   ],
   "source": [
    "# user_id,item_id,rating,timestamp\n",
    "import pandas as pd\n",
    "\n",
    "train_path = 'test.csv'\n",
    "valid_path = 'valid.csv'\n",
    "test_path = 'test.csv'\n",
    "train = pd.read_csv(train_path)\n",
    "valid = pd.read_csv(valid_path)\n",
    "test = pd.read_csv(test_path)\n",
    "train.head\n"
   ]
  },
  {
   "cell_type": "code",
   "execution_count": 13,
   "metadata": {},
   "outputs": [
    {
     "data": {
      "text/plain": [
       "<bound method NDFrame.head of         user_id  item_id  rating   timestamp  user_id_new\n",
       "0          6034     1552       5   956703977         6033\n",
       "1          6034      501       4   956704056         6033\n",
       "2          6034      981       5   956704257         6033\n",
       "3          6034      209       5   956704613         6033\n",
       "4          6034      676       4   956704788         6033\n",
       "...         ...      ...     ...         ...          ...\n",
       "112423     5944     2219       4  1046368263         5943\n",
       "112424     5944     2901       4  1046368496         5943\n",
       "112425     5944     3093       4  1046369026         5943\n",
       "112426      403      818       4  1046388675          402\n",
       "112427     3158     2082       4  1046393499         3157\n",
       "\n",
       "[112428 rows x 5 columns]>"
      ]
     },
     "execution_count": 13,
     "metadata": {},
     "output_type": "execute_result"
    }
   ],
   "source": []
  },
  {
   "cell_type": "code",
   "execution_count": 14,
   "metadata": {},
   "outputs": [],
   "source": [
    "import csv\n",
    "\n",
    "train['user_id_new'] = train['user_id'] - 1\n",
    "train.head\n",
    "user_item_history = train.groupby('user_id_new')['item_id'].agg(lambda x: ' '.join(map(str, x.astype(int)))).reset_index()\n",
    "# \n",
    "# user_item_history['item_id'] = user_item_history['item_id'].str.replace('\"', '')\n",
    "# user_item_history\n",
    "output_file_path = 'temp.txt'\n",
    "user_item_history.to_csv(output_file_path, sep=' ', index=False, header=False, quoting=0, escapechar=None)\n",
    "\n",
    "# Read the data from the original file and modify the format\n",
    "with open(\"temp.txt\", \"r\") as infile, open(\"train.txt\", \"w\") as outfile:\n",
    "    for line in infile:\n",
    "        label, values = line.strip().split(\" \", 1)\n",
    "        values_list = \" \".join(values.replace('\"', '').split())\n",
    "        outfile.write(f\"{label} {values_list}\\n\")\n",
    "\n",
    "# print(user_item_history.head())\n"
   ]
  },
  {
   "cell_type": "code",
   "execution_count": 16,
   "metadata": {},
   "outputs": [],
   "source": [
    "import csv\n",
    "\n",
    "valid['user_id_new'] = valid['user_id'] - 1\n",
    "valid.head\n",
    "user_item_history = valid.groupby('user_id_new')['item_id'].agg(lambda x: ' '.join(map(str, x.astype(int)))).reset_index()\n",
    "# \n",
    "# user_item_history['item_id'] = user_item_history['item_id'].str.replace('\"', '')\n",
    "# user_item_history\n",
    "output_file_path = 'temp.txt'\n",
    "user_item_history.to_csv(output_file_path, sep=' ', index=False, header=False, quoting=0, escapechar=None)\n",
    "\n",
    "# Read the data from the original file and modify the format\n",
    "with open(\"temp.txt\", \"r\") as infile, open(\"valid.txt\", \"w\") as outfile:\n",
    "    for line in infile:\n",
    "        label, values = line.strip().split(\" \", 1)\n",
    "        values_list = \" \".join(values.replace('\"', '').split())\n",
    "        outfile.write(f\"{label} {values_list}\\n\")\n",
    "\n",
    "# print(user_item_history.head())\n"
   ]
  },
  {
   "cell_type": "code",
   "execution_count": 25,
   "metadata": {},
   "outputs": [
    {
     "data": {
      "text/plain": [
       "<bound method NDFrame.head of         user_id  item_id  rating   timestamp\n",
       "0          6034      670       4   956703932\n",
       "1          6034     1863       4   956703954\n",
       "2          6034      515       5   956703954\n",
       "3          6034     1497       4   956703977\n",
       "4          6034     2767       4   956704056\n",
       "...         ...      ...     ...         ...\n",
       "407179     5307     2588       4  1046444711\n",
       "407180     4953     1928       4  1046454260\n",
       "407181     4953     2753       4  1046454320\n",
       "407182     4953     2585       4  1046454548\n",
       "407183     4953     1461       4  1046454590\n",
       "\n",
       "[407184 rows x 4 columns]>"
      ]
     },
     "execution_count": 25,
     "metadata": {},
     "output_type": "execute_result"
    }
   ],
   "source": [
    "# user_id,item_id,rating,timestamp\n",
    "import pandas as pd\n",
    "\n",
    "train_path = 'train.csv'\n",
    "valid_path = 'valid.csv'\n",
    "test_path = 'test.csv'\n",
    "train = pd.read_csv(train_path)\n",
    "valid = pd.read_csv(valid_path)\n",
    "test = pd.read_csv(test_path)\n",
    "train.head\n"
   ]
  },
  {
   "cell_type": "code",
   "execution_count": 26,
   "metadata": {},
   "outputs": [],
   "source": [
    "import csv\n",
    "\n",
    "train['user_id_new'] = train['user_id'] - 1\n",
    "train.head\n",
    "user_item_history = train.groupby('user_id_new')['item_id'].agg(lambda x: ' '.join(map(str, x.astype(int)))).reset_index()\n",
    "# \n",
    "# user_item_history['item_id'] = user_item_history['item_id'].str.replace('\"', '')\n",
    "# user_item_history\n",
    "output_file_path = 'temp.txt'\n",
    "user_item_history.to_csv(output_file_path, sep=' ', index=False, header=False, quoting=0, escapechar=None)\n",
    "\n",
    "# Read the data from the original file and modify the format\n",
    "with open(\"temp.txt\", \"r\") as infile, open(\"train.txt\", \"w\") as outfile:\n",
    "    for line in infile:\n",
    "        label, values = line.strip().split(\" \", 1)\n",
    "        values_list = \" \".join(values.replace('\"', '').split())\n",
    "        outfile.write(f\"{label} {values_list}\\n\")\n",
    "\n",
    "# print(user_item_history.head())\n"
   ]
  },
  {
   "cell_type": "code",
   "execution_count": 32,
   "metadata": {},
   "outputs": [
    {
     "data": {
      "text/html": [
       "<div>\n",
       "<style scoped>\n",
       "    .dataframe tbody tr th:only-of-type {\n",
       "        vertical-align: middle;\n",
       "    }\n",
       "\n",
       "    .dataframe tbody tr th {\n",
       "        vertical-align: top;\n",
       "    }\n",
       "\n",
       "    .dataframe thead th {\n",
       "        text-align: right;\n",
       "    }\n",
       "</style>\n",
       "<table border=\"1\" class=\"dataframe\">\n",
       "  <thead>\n",
       "    <tr style=\"text-align: right;\">\n",
       "      <th></th>\n",
       "      <th>user_id_new</th>\n",
       "      <th>item_id</th>\n",
       "    </tr>\n",
       "  </thead>\n",
       "  <tbody>\n",
       "    <tr>\n",
       "      <th>0</th>\n",
       "      <td>0</td>\n",
       "      <td>[804, 2686, 925, 527, 817, 125, 2181, 2309, 1201]</td>\n",
       "    </tr>\n",
       "    <tr>\n",
       "      <th>1</th>\n",
       "      <td>1</td>\n",
       "      <td>[2736, 1967, 2502, 2466, 1070, 1489, 716, 1498...</td>\n",
       "    </tr>\n",
       "    <tr>\n",
       "      <th>2</th>\n",
       "      <td>2</td>\n",
       "      <td>[1504, 941, 1253, 553, 826, 1033, 1836]</td>\n",
       "    </tr>\n",
       "    <tr>\n",
       "      <th>3</th>\n",
       "      <td>3</td>\n",
       "      <td>[865, 929, 1490]</td>\n",
       "    </tr>\n",
       "    <tr>\n",
       "      <th>4</th>\n",
       "      <td>4</td>\n",
       "      <td>[715, 2259, 2303, 2029, 709, 2146, 2022, 150, ...</td>\n",
       "    </tr>\n",
       "    <tr>\n",
       "      <th>...</th>\n",
       "      <td>...</td>\n",
       "      <td>...</td>\n",
       "    </tr>\n",
       "    <tr>\n",
       "      <th>6029</th>\n",
       "      <td>6029</td>\n",
       "      <td>[2043, 2029, 2136, 1804, 1495, 2178, 2181, 212...</td>\n",
       "    </tr>\n",
       "    <tr>\n",
       "      <th>6030</th>\n",
       "      <td>6030</td>\n",
       "      <td>[2259, 461, 273, 704, 527, 715, 2736, 934, 100...</td>\n",
       "    </tr>\n",
       "    <tr>\n",
       "      <th>6031</th>\n",
       "      <td>6031</td>\n",
       "      <td>[198, 954]</td>\n",
       "    </tr>\n",
       "    <tr>\n",
       "      <th>6032</th>\n",
       "      <td>6032</td>\n",
       "      <td>[942, 2522, 2675, 707, 920, 712, 2739, 941, 80...</td>\n",
       "    </tr>\n",
       "    <tr>\n",
       "      <th>6033</th>\n",
       "      <td>6033</td>\n",
       "      <td>[1552, 501, 981, 209, 676, 862, 137, 512, 1870...</td>\n",
       "    </tr>\n",
       "  </tbody>\n",
       "</table>\n",
       "<p>6034 rows × 2 columns</p>\n",
       "</div>"
      ],
      "text/plain": [
       "      user_id_new                                            item_id\n",
       "0               0  [804, 2686, 925, 527, 817, 125, 2181, 2309, 1201]\n",
       "1               1  [2736, 1967, 2502, 2466, 1070, 1489, 716, 1498...\n",
       "2               2            [1504, 941, 1253, 553, 826, 1033, 1836]\n",
       "3               3                                   [865, 929, 1490]\n",
       "4               4  [715, 2259, 2303, 2029, 709, 2146, 2022, 150, ...\n",
       "...           ...                                                ...\n",
       "6029         6029  [2043, 2029, 2136, 1804, 1495, 2178, 2181, 212...\n",
       "6030         6030  [2259, 461, 273, 704, 527, 715, 2736, 934, 100...\n",
       "6031         6031                                         [198, 954]\n",
       "6032         6032  [942, 2522, 2675, 707, 920, 712, 2739, 941, 80...\n",
       "6033         6033  [1552, 501, 981, 209, 676, 862, 137, 512, 1870...\n",
       "\n",
       "[6034 rows x 2 columns]"
      ]
     },
     "execution_count": 32,
     "metadata": {},
     "output_type": "execute_result"
    }
   ],
   "source": [
    "import pandas as pd\n",
    "\n",
    "# Assuming you have 'train' DataFrame defined somewhere before this code.\n",
    "\n",
    "# Group the 'item_id' values by 'user_id', convert them to integers, and concatenate them into a space-separated string.\n",
    "# user_item_history = train.groupby('user_id')['item_id'].agg(lambda x: ' '.join(map(str, x.astype(int)))).reset_index()\n",
    "user_item_history = train.groupby('user_id_new')['item_id'].apply(list).reset_index()\n",
    "# user_item_history\n",
    "output_file_path = 'train.txt'\n",
    "# user_item_history.to_csv(output_file_path, sep=' ', index=False, header=False, quoting=0, escapechar=' ')\n",
    "\n",
    "# Optionally, you can print the first few rows of the user_item_history DataFrame.\n",
    "# print(user_item_history.head())\n"
   ]
  },
  {
   "cell_type": "code",
   "execution_count": 18,
   "metadata": {},
   "outputs": [
    {
     "data": {
      "text/plain": [
       "<bound method NDFrame.head of         user_id  item_id  rating   timestamp\n",
       "0          6034     1552       5   956703977\n",
       "1          6034      501       4   956704056\n",
       "2          6034      981       5   956704257\n",
       "3          6034      209       5   956704613\n",
       "4          6034      676       4   956704788\n",
       "...         ...      ...     ...         ...\n",
       "112423     5944     2219       4  1046368263\n",
       "112424     5944     2901       4  1046368496\n",
       "112425     5944     3093       4  1046369026\n",
       "112426      403      818       4  1046388675\n",
       "112427     3158     2082       4  1046393499\n",
       "\n",
       "[112428 rows x 4 columns]>"
      ]
     },
     "execution_count": 18,
     "metadata": {},
     "output_type": "execute_result"
    }
   ],
   "source": [
    "# user_id,item_id,rating,timestamp\n",
    "import pandas as pd\n",
    "\n",
    "train_path = 'test.csv'\n",
    "valid_path = 'valid.csv'\n",
    "test_path = 'test.csv'\n",
    "train = pd.read_csv(train_path)\n",
    "valid = pd.read_csv(valid_path)\n",
    "test = pd.read_csv(test_path)\n",
    "train.head\n"
   ]
  },
  {
   "cell_type": "code",
   "execution_count": 21,
   "metadata": {},
   "outputs": [
    {
     "name": "stdout",
     "output_type": "stream",
     "text": [
      "user_id 1\n",
      "[        user_id  item_id  rating  timestamp\n",
      "102192        1      804       5  978300055\n",
      "102195        1     2686       4  978300275\n",
      "102197        1      527       4  978301398\n",
      "102198        1      817       5  978301753\n",
      "102199        1      125       5  978301777\n",
      "102200        1     2181       4  978302091\n",
      "102201        1     2309       4  978302124]\n",
      "[        user_id  item_id  rating  timestamp\n",
      "102787        1     1201       4  978824139]\n",
      "[        user_id  item_id  rating  timestamp\n",
      "102196        1      925       5  978300760]\n"
     ]
    }
   ],
   "source": [
    "ratings = train\n",
    "num_users = 10\n",
    "\n",
    "COL_USER_ID = \"user_id\"\n",
    "COL_ITEM_ID = \"item_id\"\n",
    "COL_RATINGS = \"rating\"\n",
    "COL_TIMESTAMP = \"timestamp\"\n",
    "\n",
    "val_set_percentage = 0.2\n",
    "test_set_percentage = 0.1\n",
    "\n",
    "train_lst = []\n",
    "valid_lst = []\n",
    "test_lst = []\n",
    "for user_id in (range(1, num_users + 1)):\n",
    "        user_items = ratings[ratings[COL_USER_ID] == user_id]\n",
    "        num_items = len(user_items)\n",
    "        \n",
    "        val_size = int(num_items * val_set_percentage)\n",
    "        val_size = 1 if val_size == 0 else val_size\n",
    "        test_size = int(num_items * test_set_percentage)\n",
    "        test_size = 1 if test_size == 0 else test_size\n",
    "\n",
    "        val_items = user_items.sample(n=val_size)\n",
    "        remaining_items = user_items.drop(val_items.index)\n",
    "        test_items = remaining_items.sample(n=test_size)\n",
    "        train_items = remaining_items.drop(test_items.index)\n",
    "        \n",
    "        if not len(train_items):\n",
    "            print(num_items, 'total')\n",
    "            print(test_size, 'test')\n",
    "            print(val_size, 'val')\n",
    "            print(len(train_items), 'train')\n",
    "            print(len(remaining_items), 'remain')\n",
    "            raise ValueError   \n",
    "        \n",
    "        train_lst.append(train_items)\n",
    "        valid_lst.append(val_items)\n",
    "        test_lst.append(test_items)\n",
    "        \n",
    "        print('user_id', user_id)\n",
    "        print(train_lst)\n",
    "        print(valid_lst)\n",
    "        print(test_lst)\n",
    "        break"
   ]
  },
  {
   "cell_type": "code",
   "execution_count": null,
   "metadata": {},
   "outputs": [],
   "source": []
  }
 ],
 "metadata": {
  "kernelspec": {
   "display_name": "eunji",
   "language": "python",
   "name": "python3"
  },
  "language_info": {
   "codemirror_mode": {
    "name": "ipython",
    "version": 3
   },
   "file_extension": ".py",
   "mimetype": "text/x-python",
   "name": "python",
   "nbconvert_exporter": "python",
   "pygments_lexer": "ipython3",
   "version": "3.8.0"
  },
  "orig_nbformat": 4
 },
 "nbformat": 4,
 "nbformat_minor": 2
}
