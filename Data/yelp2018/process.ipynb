{
 "cells": [
  {
   "cell_type": "code",
   "execution_count": 4,
   "metadata": {},
   "outputs": [],
   "source": [
    "import csv\n",
    "import pandas as pd"
   ]
  },
  {
   "cell_type": "code",
   "execution_count": 1,
   "metadata": {},
   "outputs": [
    {
     "name": "stdout",
     "output_type": "stream",
     "text": [
      "Data has been successfully written to yelp2018.csv\n"
     ]
    }
   ],
   "source": [
    "import csv\n",
    "import pandas as pd\n",
    "\n",
    "train_file = 'train.txt'\n",
    "test_file = 'test.txt'\n",
    "output_csv_file = 'yelp2018.csv'\n",
    "\n",
    "data = []\n",
    "\n",
    "def process_line(line, start_timestamp=1):\n",
    "    parts = line.strip().split()\n",
    "    user_id = int(parts[0])  # Convert user_id to integer\n",
    "    item_ids = parts[1:]\n",
    "    timestamp = range(start_timestamp, start_timestamp + len(item_ids))\n",
    "    return [(user_id, item_id, time) for item_id, time in zip(item_ids, timestamp)]\n",
    "\n",
    "last_timestamps = {}\n",
    "with open(train_file, 'r') as train_f:\n",
    "    for line in train_f:\n",
    "        parts = line.strip().split()\n",
    "        user_id = int(parts[0])    \n",
    "        item_ids = parts[1:]\n",
    "        last_timestamp = len(item_ids)\n",
    "        last_timestamps[user_id] = last_timestamp\n",
    "        data.extend(process_line(line, start_timestamp=1))\n",
    "\n",
    "with open(test_file, 'r') as test_f:\n",
    "    for line in test_f:\n",
    "        user_id = int(line.strip().split()[0])\n",
    "        last_timestamp = last_timestamps.get(user_id, 0)  # Get the last timestamp or default to 0\n",
    "        data.extend(process_line(line, start_timestamp=last_timestamp + 1))\n",
    "\n",
    "df = pd.DataFrame(data, columns=['user_id', 'item_id', 'timestamp'])\n",
    "df.sort_values(by=['user_id', 'timestamp'], inplace=True)\n",
    "df.to_csv(output_csv_file, index=False)\n",
    "\n",
    "print(f\"Data has been successfully written to {output_csv_file}\")\n"
   ]
  },
  {
   "cell_type": "code",
   "execution_count": 2,
   "metadata": {},
   "outputs": [
    {
     "data": {
      "text/plain": [
       "1561406"
      ]
     },
     "execution_count": 2,
     "metadata": {},
     "output_type": "execute_result"
    }
   ],
   "source": [
    "len(df)"
   ]
  },
  {
   "cell_type": "code",
   "execution_count": 5,
   "metadata": {},
   "outputs": [
    {
     "data": {
      "text/plain": [
       "1027370"
      ]
     },
     "execution_count": 5,
     "metadata": {},
     "output_type": "execute_result"
    }
   ],
   "source": [
    "810128+217242"
   ]
  },
  {
   "cell_type": "code",
   "execution_count": null,
   "metadata": {},
   "outputs": [],
   "source": []
  }
 ],
 "metadata": {
  "kernelspec": {
   "display_name": "lgcn",
   "language": "python",
   "name": "python3"
  },
  "language_info": {
   "codemirror_mode": {
    "name": "ipython",
    "version": 3
   },
   "file_extension": ".py",
   "mimetype": "text/x-python",
   "name": "python",
   "nbconvert_exporter": "python",
   "pygments_lexer": "ipython3",
   "version": "3.7.0"
  },
  "orig_nbformat": 4
 },
 "nbformat": 4,
 "nbformat_minor": 2
}
